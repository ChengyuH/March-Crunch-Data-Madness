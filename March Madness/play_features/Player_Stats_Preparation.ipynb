{
 "cells": [
  {
   "cell_type": "markdown",
   "id": "d7e9c52e",
   "metadata": {},
   "source": [
    "### Introduction \n",
    "\n",
    "We get top 100 (Points per game) players since '2002 - 2003' season to the current season. \n",
    "\n",
    "These players represent the most offensive players in each team, and they have potential to be considered as super stars. As basketball fans, we know for offense, players who have the most ppg are usually considered \"core\" players in each team.\n",
    "\n",
    "If you watch NBA, you are probably know the game changer players usually are among top 20 or even top 10 in the scoring leading board with high player efficiency, for example: Kevin Durant. \n",
    "\n",
    "They are other types of players with high PPG; however, they have low efficiency. For this type of players, they may make game changing plays, but most of times they drag their teams to losses. They seems have fantastic stats; however, they are \"fake\" stars. For example, Russual Westbrook. "
   ]
  },
  {
   "cell_type": "code",
   "execution_count": 1,
   "id": "c46907be",
   "metadata": {},
   "outputs": [],
   "source": [
    "import pandas as pd \n",
    "import numpy as np \n",
    "import matplotlib.pyplot as plt\n",
    "import seaborn as sns "
   ]
  },
  {
   "cell_type": "code",
   "execution_count": 2,
   "id": "7192cee2",
   "metadata": {},
   "outputs": [],
   "source": [
    "df = pd.read_csv('stat.csv')"
   ]
  },
  {
   "cell_type": "code",
   "execution_count": 3,
   "id": "d98f01b0",
   "metadata": {},
   "outputs": [
    {
     "data": {
      "text/plain": "Oakland              23\nVirginia Military    22\nHofstra              20\nDuke                 19\nOral Roberts         15\n                     ..\nRutgers               1\nCal Poly              1\nSouthern              1\nTexas Christian       1\nMerrimack College     1\nName: Team, Length: 348, dtype: int64"
     },
     "execution_count": 3,
     "metadata": {},
     "output_type": "execute_result"
    }
   ],
   "source": [
    "df['Team'].value_counts()"
   ]
  },
  {
   "cell_type": "markdown",
   "id": "13affb05",
   "metadata": {},
   "source": [
    "### Data Manipulation "
   ]
  },
  {
   "cell_type": "code",
   "execution_count": 4,
   "id": "cff02f23",
   "metadata": {},
   "outputs": [],
   "source": [
    "chunk_size = 100"
   ]
  },
  {
   "cell_type": "code",
   "execution_count": 5,
   "id": "8974111f",
   "metadata": {},
   "outputs": [
    {
     "name": "stdout",
     "output_type": "stream",
     "text": [
      "DataFrame 0 has 100 columns\n",
      "DataFrame 1 has 100 columns\n",
      "DataFrame 2 has 100 columns\n",
      "DataFrame 3 has 100 columns\n",
      "DataFrame 4 has 100 columns\n",
      "DataFrame 5 has 100 columns\n",
      "DataFrame 6 has 100 columns\n",
      "DataFrame 7 has 100 columns\n",
      "DataFrame 8 has 100 columns\n",
      "DataFrame 9 has 100 columns\n",
      "DataFrame 10 has 100 columns\n",
      "DataFrame 11 has 100 columns\n",
      "DataFrame 12 has 100 columns\n",
      "DataFrame 13 has 100 columns\n",
      "DataFrame 14 has 100 columns\n",
      "DataFrame 15 has 100 columns\n",
      "DataFrame 16 has 100 columns\n",
      "DataFrame 17 has 100 columns\n",
      "DataFrame 18 has 100 columns\n",
      "DataFrame 19 has 100 columns\n",
      "DataFrame 20 has 100 columns\n"
     ]
    }
   ],
   "source": [
    "# 创建一个列表，其中包含分成的DataFrame\n",
    "df_list = [df[i:i+chunk_size] for i in range(0, df.shape[0], chunk_size)]\n",
    "\n",
    "# 检查列表中的每个DataFrame的大小\n",
    "for i, chunk in enumerate(df_list):\n",
    "    print(\"DataFrame {} has {} columns\".format(i, chunk.shape[0]))"
   ]
  },
  {
   "cell_type": "code",
   "execution_count": 6,
   "id": "35ac0de3",
   "metadata": {},
   "outputs": [
    {
     "data": {
      "text/plain": "array(['Eastern Illinois', 'New Mexico', 'Oakland', 'UMKC',\n       'Boston College', \"Saint Peter's\", 'Manhattan', 'Ball State',\n       'Georgetown', 'Western Carolina', 'Detroit-Mercy',\n       'Morehead State', 'Central Michigan', 'Wright State', \"St. John's\",\n       'Syracuse', 'Texas Tech', 'Georgia Southern', 'Howard',\n       'St. Francis (PA)', 'Marquette', 'Ohio', 'Wagner',\n       'St. Bonaventure', 'Tennessee', 'UNC Wilmington', 'Kent State',\n       'Akron', 'Florida A&M', 'Weber State', 'Appalachian State',\n       'Maryland-Eastern Shore', 'California', 'Marshall', 'UNLV',\n       'George Washington', 'Southern Methodist', 'William & Mary',\n       'Xavier', 'West Virginia', 'Illinois', 'Boston College',\n       'Wright State', \"Saint Joseph's\", 'Oregon', 'Hawaii',\n       'Wake Forest', 'Connecticut', 'Notre Dame', 'Furman', 'Vermont',\n       'Robert Morris', 'Long Island', 'Brown', 'Arizona State',\n       'North Texas', 'Illinois-Chicago', 'Bradley', 'Albany',\n       'Miami (FL)', 'Notre Dame', 'USC', 'High Point', 'La Salle',\n       'Coastal Carolina', 'Virginia Military', 'Texas Southern',\n       'San Francisco', 'Kansas', 'Providence', 'Loyola (IL)', 'Auburn',\n       'Niagara', 'New Orleans', 'Milwaukee', 'UAB', 'Ohio State',\n       'Rider', 'Georgia', 'Bethune-Cookman', 'Oakland', 'Xavier',\n       'Prairie View A&M', 'Wyoming', 'Oklahoma', 'San Diego',\n       'New Mexico State', 'Oral Roberts', 'Gonzaga', 'Georgia State',\n       'Northern Arizona', 'Louisville', 'Vanderbilt', 'Louisiana Tech',\n       'Maryland', 'Purdue', 'Creighton', 'Clemson', 'Texas Christian',\n       'NC State'], dtype=object)"
     },
     "execution_count": 6,
     "metadata": {},
     "output_type": "execute_result"
    }
   ],
   "source": [
    "# Check what stats are included \n",
    "df_list[0].Team.values "
   ]
  },
  {
   "cell_type": "code",
   "execution_count": 7,
   "id": "a73f5d86",
   "metadata": {},
   "outputs": [],
   "source": [
    "# Drop redundant column \n",
    "for df in df_list: \n",
    "    df.drop(df.columns[0], axis=1,inplace=True)\n",
    "    df['Number'] = df.Number.astype('int64')\n",
    "    df.rename(columns={'Number':'Ranking'},inplace=True)"
   ]
  },
  {
   "cell_type": "code",
   "execution_count": 8,
   "id": "4f608c7c",
   "metadata": {},
   "outputs": [
    {
     "data": {
      "text/plain": "      Ranking                Player                 Team    GP   MPG   PPG  \\\n2000        1         Antoine Davis        Detroit-Mercy  33.0  37.3  28.2   \n2001        2         Jordan Dingle        Pennsylvania   28.0  33.5  23.4   \n2002        3         Jordan Walker                  UAB  28.0  33.1  23.4   \n2003        4         Elijah Pepper             UC Davis  31.0  35.5  22.5   \n2004        5         Darius McGhee              Liberty  34.0  31.6  22.5   \n...       ...                   ...                  ...   ...   ...   ...   \n2095       96          B.J. Freeman            Milwaukee  30.0  30.3  17.4   \n2096       97          Jordan Minor    Merrimack College  28.0  33.4  17.4   \n2097       98        RaeQuan Battle        Montana State  34.0  29.6  17.4   \n2098       99         Brendan Adams    George Washington  32.0  37.6  17.4   \n2099      100  Claudell Harris, Jr.  Charleston Southern  30.0  31.3  17.4   \n\n      FGM   FGA    FG%  3PM  ...  FTA    FT%  ORB  DRB  RPG  APG  SPG  BPG  \\\n2000  9.2  22.2  0.414  4.8  ...  5.5  0.907  0.4  2.6  3.0  3.6  1.2  0.1   \n2001  7.8  16.8  0.464  2.8  ...  6.0  0.856  0.7  2.9  3.6  2.3  1.1  0.1   \n2002  7.4  17.6  0.422  4.5  ...  4.7  0.856  0.4  2.3  2.6  4.1  1.2  0.0   \n2003  7.4  16.5  0.449  2.2  ...  6.7  0.816  1.1  4.8  5.9  3.4  1.6  0.2   \n2004  7.5  17.0  0.441  4.5  ...  3.4  0.878  0.4  2.8  3.3  2.9  1.6  0.1   \n...   ...   ...    ...  ...  ...  ...    ...  ...  ...  ...  ...  ...  ...   \n2095  5.8  14.4  0.401  2.3  ...  4.4  0.818  1.1  4.1  5.1  3.0  0.8  0.3   \n2096  6.6  12.9  0.515  0.0  ...  7.0  0.587  3.3  6.1  9.4  2.3  1.4  2.6   \n2097  6.3  13.5  0.467  1.5  ...  4.0  0.838  0.6  2.4  2.9  1.0  0.8  0.5   \n2098  5.9  12.5  0.470  2.3  ...  4.0  0.835  0.8  3.4  4.2  2.9  0.7  0.2   \n2099  6.3  13.7  0.460  2.2  ...  3.3  0.786  0.4  3.5  3.9  2.3  0.9  0.2   \n\n      TOV   PF  \n2000  3.3  2.1  \n2001  2.8  1.5  \n2002  2.8  1.8  \n2003  3.5  2.0  \n2004  1.9  1.1  \n...   ...  ...  \n2095  3.2  2.0  \n2096  2.8  3.0  \n2097  1.5  2.4  \n2098  2.5  1.9  \n2099  2.0  1.9  \n\n[100 rows x 23 columns]",
      "text/html": "<div>\n<style scoped>\n    .dataframe tbody tr th:only-of-type {\n        vertical-align: middle;\n    }\n\n    .dataframe tbody tr th {\n        vertical-align: top;\n    }\n\n    .dataframe thead th {\n        text-align: right;\n    }\n</style>\n<table border=\"1\" class=\"dataframe\">\n  <thead>\n    <tr style=\"text-align: right;\">\n      <th></th>\n      <th>Ranking</th>\n      <th>Player</th>\n      <th>Team</th>\n      <th>GP</th>\n      <th>MPG</th>\n      <th>PPG</th>\n      <th>FGM</th>\n      <th>FGA</th>\n      <th>FG%</th>\n      <th>3PM</th>\n      <th>...</th>\n      <th>FTA</th>\n      <th>FT%</th>\n      <th>ORB</th>\n      <th>DRB</th>\n      <th>RPG</th>\n      <th>APG</th>\n      <th>SPG</th>\n      <th>BPG</th>\n      <th>TOV</th>\n      <th>PF</th>\n    </tr>\n  </thead>\n  <tbody>\n    <tr>\n      <th>2000</th>\n      <td>1</td>\n      <td>Antoine Davis</td>\n      <td>Detroit-Mercy</td>\n      <td>33.0</td>\n      <td>37.3</td>\n      <td>28.2</td>\n      <td>9.2</td>\n      <td>22.2</td>\n      <td>0.414</td>\n      <td>4.8</td>\n      <td>...</td>\n      <td>5.5</td>\n      <td>0.907</td>\n      <td>0.4</td>\n      <td>2.6</td>\n      <td>3.0</td>\n      <td>3.6</td>\n      <td>1.2</td>\n      <td>0.1</td>\n      <td>3.3</td>\n      <td>2.1</td>\n    </tr>\n    <tr>\n      <th>2001</th>\n      <td>2</td>\n      <td>Jordan Dingle</td>\n      <td>Pennsylvania</td>\n      <td>28.0</td>\n      <td>33.5</td>\n      <td>23.4</td>\n      <td>7.8</td>\n      <td>16.8</td>\n      <td>0.464</td>\n      <td>2.8</td>\n      <td>...</td>\n      <td>6.0</td>\n      <td>0.856</td>\n      <td>0.7</td>\n      <td>2.9</td>\n      <td>3.6</td>\n      <td>2.3</td>\n      <td>1.1</td>\n      <td>0.1</td>\n      <td>2.8</td>\n      <td>1.5</td>\n    </tr>\n    <tr>\n      <th>2002</th>\n      <td>3</td>\n      <td>Jordan Walker</td>\n      <td>UAB</td>\n      <td>28.0</td>\n      <td>33.1</td>\n      <td>23.4</td>\n      <td>7.4</td>\n      <td>17.6</td>\n      <td>0.422</td>\n      <td>4.5</td>\n      <td>...</td>\n      <td>4.7</td>\n      <td>0.856</td>\n      <td>0.4</td>\n      <td>2.3</td>\n      <td>2.6</td>\n      <td>4.1</td>\n      <td>1.2</td>\n      <td>0.0</td>\n      <td>2.8</td>\n      <td>1.8</td>\n    </tr>\n    <tr>\n      <th>2003</th>\n      <td>4</td>\n      <td>Elijah Pepper</td>\n      <td>UC Davis</td>\n      <td>31.0</td>\n      <td>35.5</td>\n      <td>22.5</td>\n      <td>7.4</td>\n      <td>16.5</td>\n      <td>0.449</td>\n      <td>2.2</td>\n      <td>...</td>\n      <td>6.7</td>\n      <td>0.816</td>\n      <td>1.1</td>\n      <td>4.8</td>\n      <td>5.9</td>\n      <td>3.4</td>\n      <td>1.6</td>\n      <td>0.2</td>\n      <td>3.5</td>\n      <td>2.0</td>\n    </tr>\n    <tr>\n      <th>2004</th>\n      <td>5</td>\n      <td>Darius McGhee</td>\n      <td>Liberty</td>\n      <td>34.0</td>\n      <td>31.6</td>\n      <td>22.5</td>\n      <td>7.5</td>\n      <td>17.0</td>\n      <td>0.441</td>\n      <td>4.5</td>\n      <td>...</td>\n      <td>3.4</td>\n      <td>0.878</td>\n      <td>0.4</td>\n      <td>2.8</td>\n      <td>3.3</td>\n      <td>2.9</td>\n      <td>1.6</td>\n      <td>0.1</td>\n      <td>1.9</td>\n      <td>1.1</td>\n    </tr>\n    <tr>\n      <th>...</th>\n      <td>...</td>\n      <td>...</td>\n      <td>...</td>\n      <td>...</td>\n      <td>...</td>\n      <td>...</td>\n      <td>...</td>\n      <td>...</td>\n      <td>...</td>\n      <td>...</td>\n      <td>...</td>\n      <td>...</td>\n      <td>...</td>\n      <td>...</td>\n      <td>...</td>\n      <td>...</td>\n      <td>...</td>\n      <td>...</td>\n      <td>...</td>\n      <td>...</td>\n      <td>...</td>\n    </tr>\n    <tr>\n      <th>2095</th>\n      <td>96</td>\n      <td>B.J. Freeman</td>\n      <td>Milwaukee</td>\n      <td>30.0</td>\n      <td>30.3</td>\n      <td>17.4</td>\n      <td>5.8</td>\n      <td>14.4</td>\n      <td>0.401</td>\n      <td>2.3</td>\n      <td>...</td>\n      <td>4.4</td>\n      <td>0.818</td>\n      <td>1.1</td>\n      <td>4.1</td>\n      <td>5.1</td>\n      <td>3.0</td>\n      <td>0.8</td>\n      <td>0.3</td>\n      <td>3.2</td>\n      <td>2.0</td>\n    </tr>\n    <tr>\n      <th>2096</th>\n      <td>97</td>\n      <td>Jordan Minor</td>\n      <td>Merrimack College</td>\n      <td>28.0</td>\n      <td>33.4</td>\n      <td>17.4</td>\n      <td>6.6</td>\n      <td>12.9</td>\n      <td>0.515</td>\n      <td>0.0</td>\n      <td>...</td>\n      <td>7.0</td>\n      <td>0.587</td>\n      <td>3.3</td>\n      <td>6.1</td>\n      <td>9.4</td>\n      <td>2.3</td>\n      <td>1.4</td>\n      <td>2.6</td>\n      <td>2.8</td>\n      <td>3.0</td>\n    </tr>\n    <tr>\n      <th>2097</th>\n      <td>98</td>\n      <td>RaeQuan Battle</td>\n      <td>Montana State</td>\n      <td>34.0</td>\n      <td>29.6</td>\n      <td>17.4</td>\n      <td>6.3</td>\n      <td>13.5</td>\n      <td>0.467</td>\n      <td>1.5</td>\n      <td>...</td>\n      <td>4.0</td>\n      <td>0.838</td>\n      <td>0.6</td>\n      <td>2.4</td>\n      <td>2.9</td>\n      <td>1.0</td>\n      <td>0.8</td>\n      <td>0.5</td>\n      <td>1.5</td>\n      <td>2.4</td>\n    </tr>\n    <tr>\n      <th>2098</th>\n      <td>99</td>\n      <td>Brendan Adams</td>\n      <td>George Washington</td>\n      <td>32.0</td>\n      <td>37.6</td>\n      <td>17.4</td>\n      <td>5.9</td>\n      <td>12.5</td>\n      <td>0.470</td>\n      <td>2.3</td>\n      <td>...</td>\n      <td>4.0</td>\n      <td>0.835</td>\n      <td>0.8</td>\n      <td>3.4</td>\n      <td>4.2</td>\n      <td>2.9</td>\n      <td>0.7</td>\n      <td>0.2</td>\n      <td>2.5</td>\n      <td>1.9</td>\n    </tr>\n    <tr>\n      <th>2099</th>\n      <td>100</td>\n      <td>Claudell Harris, Jr.</td>\n      <td>Charleston Southern</td>\n      <td>30.0</td>\n      <td>31.3</td>\n      <td>17.4</td>\n      <td>6.3</td>\n      <td>13.7</td>\n      <td>0.460</td>\n      <td>2.2</td>\n      <td>...</td>\n      <td>3.3</td>\n      <td>0.786</td>\n      <td>0.4</td>\n      <td>3.5</td>\n      <td>3.9</td>\n      <td>2.3</td>\n      <td>0.9</td>\n      <td>0.2</td>\n      <td>2.0</td>\n      <td>1.9</td>\n    </tr>\n  </tbody>\n</table>\n<p>100 rows × 23 columns</p>\n</div>"
     },
     "execution_count": 8,
     "metadata": {},
     "output_type": "execute_result"
    }
   ],
   "source": [
    "# Check the dataframe\n",
    "df_list[20]"
   ]
  },
  {
   "cell_type": "code",
   "execution_count": 9,
   "id": "84f0345b",
   "metadata": {},
   "outputs": [],
   "source": [
    "df_sum = pd.DataFrame()\n",
    "\n",
    "year = 2003\n",
    "\n",
    "for df in df_list: \n",
    "    df['Year'] = year  \n",
    "    df.rename(columns={'Number':'Ranking'}) \n",
    "    \n",
    "    #df.to_csv(\"player_data_{}.cvs\".format(year),index=False)\n",
    "    df_sum = pd.concat([df_sum,df],ignore_index=True)\n",
    "\n",
    "    year = year + 1"
   ]
  },
  {
   "cell_type": "code",
   "execution_count": 10,
   "id": "aa93aee3",
   "metadata": {},
   "outputs": [
    {
     "name": "stdout",
     "output_type": "stream",
     "text": [
      "      Ranking                Player                 Team    GP   MPG   PPG  \\\n",
      "0           1       Henry Domercant     Eastern Illinois  30.0  33.7  28.2   \n",
      "1           2         Ruben Douglas           New Mexico  28.0  35.1  28.0   \n",
      "2           3            Mike Helms              Oakland  28.0  34.5  26.9   \n",
      "3           4        Michael Watson                 UMKC  29.0  38.8  25.5   \n",
      "4           5             Troy Bell       Boston College  31.0  38.6  25.2   \n",
      "...       ...                   ...                  ...   ...   ...   ...   \n",
      "2095       96          B.J. Freeman            Milwaukee  30.0  30.3  17.4   \n",
      "2096       97          Jordan Minor    Merrimack College  28.0  33.4  17.4   \n",
      "2097       98        RaeQuan Battle        Montana State  34.0  29.6  17.4   \n",
      "2098       99         Brendan Adams    George Washington  32.0  37.6  17.4   \n",
      "2099      100  Claudell Harris, Jr.  Charleston Southern  30.0  31.3  17.4   \n",
      "\n",
      "      FGM   FGA    FG%  3PM  ...    FT%  ORB  DRB  RPG  APG  SPG  BPG  TOV  \\\n",
      "0     8.8  19.2  0.460  3.0  ...  0.844  2.0  4.8  6.8  2.8  1.4  0.5  2.3   \n",
      "1     7.8  19.6  0.397  3.4  ...  0.841  1.9  4.8  6.6  2.1  1.3  0.3  3.9   \n",
      "2     8.6  19.0  0.452  2.6  ...  0.745  1.3  2.7  4.0  2.0  1.4  0.3  3.8   \n",
      "3     8.5  22.6  0.377  4.1  ...  0.753  0.8  2.9  3.7  3.8  1.4  0.2  3.7   \n",
      "4     7.2  16.4  0.441  3.4  ...  0.847  1.5  3.0  4.6  3.7  2.3  0.2  2.5   \n",
      "...   ...   ...    ...  ...  ...    ...  ...  ...  ...  ...  ...  ...  ...   \n",
      "2095  5.8  14.4  0.401  2.3  ...  0.818  1.1  4.1  5.1  3.0  0.8  0.3  3.2   \n",
      "2096  6.6  12.9  0.515  0.0  ...  0.587  3.3  6.1  9.4  2.3  1.4  2.6  2.8   \n",
      "2097  6.3  13.5  0.467  1.5  ...  0.838  0.6  2.4  2.9  1.0  0.8  0.5  1.5   \n",
      "2098  5.9  12.5  0.470  2.3  ...  0.835  0.8  3.4  4.2  2.9  0.7  0.2  2.5   \n",
      "2099  6.3  13.7  0.460  2.2  ...  0.786  0.4  3.5  3.9  2.3  0.9  0.2  2.0   \n",
      "\n",
      "       PF  Year  \n",
      "0     2.1  2003  \n",
      "1     2.7  2003  \n",
      "2     3.1  2003  \n",
      "3     2.4  2003  \n",
      "4     2.1  2003  \n",
      "...   ...   ...  \n",
      "2095  2.0  2023  \n",
      "2096  3.0  2023  \n",
      "2097  2.4  2023  \n",
      "2098  1.9  2023  \n",
      "2099  1.9  2023  \n",
      "\n",
      "[2100 rows x 24 columns]\n"
     ]
    }
   ],
   "source": [
    "print(df_sum)"
   ]
  },
  {
   "cell_type": "code",
   "execution_count": 11,
   "id": "a4a006ae",
   "metadata": {},
   "outputs": [
    {
     "data": {
      "text/plain": "21"
     },
     "execution_count": 11,
     "metadata": {},
     "output_type": "execute_result"
    }
   ],
   "source": [
    "len(df_list)"
   ]
  },
  {
   "cell_type": "code",
   "execution_count": 12,
   "id": "2633334d",
   "metadata": {
    "scrolled": true
   },
   "outputs": [],
   "source": [
    "dfs = []\n",
    "\n",
    "for year in range(2003, 2023):\n",
    "    filename = f\"NCAA_Tourney_2002_2022.csv\"\n",
    "    data = pd.read_csv(filename).query(f\"season=={year}\").reset_index(drop=True)\n",
    "    dfs.append(data)"
   ]
  },
  {
   "cell_type": "code",
   "execution_count": 13,
   "id": "e5d200f4",
   "metadata": {},
   "outputs": [],
   "source": [
    "for i in range(len(dfs)):\n",
    "    team_names = dfs[i][['team1_teamname', 'team2_teamname']].values.tolist()\n",
    "    for label, data in df_list[i]['Team'].iteritems():\n",
    "        if data not in [name for names in team_names for name in names]:\n",
    "            df_list[i] = df_list[i].drop(label)"
   ]
  },
  {
   "cell_type": "code",
   "execution_count": 32,
   "id": "eaa7361a",
   "metadata": {},
   "outputs": [],
   "source": [
    "for i in range(len(dfs)):\n",
    "    team_counts = df_list[i]['Team'].value_counts()\n",
    "\n",
    "    dfs[i]['team1_keyplayers'] = dfs[i]['team1_teamname'].map(team_counts).fillna(0).astype('int')\n",
    "    dfs[i]['team2_keyplayers'] = dfs[i]['team2_teamname'].map(team_counts).fillna(0).astype('int')"
   ]
  },
  {
   "cell_type": "code",
   "execution_count": 36,
   "outputs": [],
   "source": [
    "train = pd.concat(dfs, ignore_index=True)"
   ],
   "metadata": {
    "collapsed": false
   }
  },
  {
   "cell_type": "code",
   "execution_count": 37,
   "outputs": [],
   "source": [
    "train.to_csv(\"train_2003_2022.csv\")"
   ],
   "metadata": {
    "collapsed": false
   }
  }
 ],
 "metadata": {
  "kernelspec": {
   "display_name": "Python 3 (ipykernel)",
   "language": "python",
   "name": "python3"
  },
  "language_info": {
   "codemirror_mode": {
    "name": "ipython",
    "version": 3
   },
   "file_extension": ".py",
   "mimetype": "text/x-python",
   "name": "python",
   "nbconvert_exporter": "python",
   "pygments_lexer": "ipython3",
   "version": "3.9.7"
  },
  "toc": {
   "base_numbering": 1,
   "nav_menu": {},
   "number_sections": true,
   "sideBar": true,
   "skip_h1_title": false,
   "title_cell": "Table of Contents",
   "title_sidebar": "Contents",
   "toc_cell": false,
   "toc_position": {},
   "toc_section_display": true,
   "toc_window_display": false
  }
 },
 "nbformat": 4,
 "nbformat_minor": 5
}
