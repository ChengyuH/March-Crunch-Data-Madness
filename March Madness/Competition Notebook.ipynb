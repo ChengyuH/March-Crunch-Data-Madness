{
 "cells": [
  {
   "cell_type": "markdown",
   "source": [
    "### Data Preprocessing and Feature Selection\n",
    "\n",
    "This part performs data preprocessing and feature selection. We use L1 regularization along with Logistic Regression CV to select important features.\n",
    "\n",
    "For data preprocessing, we perform shuffle and data engineering. The functions are included in the Processors package under the same directory."
   ],
   "metadata": {
    "collapsed": false
   }
  },
  {
   "cell_type": "code",
   "execution_count": 11,
   "outputs": [],
   "source": [
    "import pandas as pd\n",
    "\n",
    "from Processors.missing_value_processor import ratio\n",
    "from Processors.feature_engieering_processor import feature_engineering\n",
    "from Processors.shuffle_processor import shuffle\n",
    "from Processors.feature_selection_processor import feature_selection\n",
    "from Processors.get_feature_names_processor import get_feature_names"
   ],
   "metadata": {
    "collapsed": false
   }
  },
  {
   "cell_type": "code",
   "execution_count": 2,
   "outputs": [],
   "source": [
    "# Read the Data\n",
    "df = pd.read_csv(\"NCAA_Tourney_2002_2022.csv\")\n",
    "\n",
    "# Shuffle the data since Team_1 win all the games in the dataset\n",
    "df = shuffle(df, 600)\n",
    "\n",
    "# Constructing new features\n",
    "df = feature_engineering(df)\n",
    "\n",
    "# Decrease missing values\n",
    "df = ratio(df)"
   ],
   "metadata": {
    "collapsed": false
   }
  },
  {
   "cell_type": "code",
   "execution_count": 4,
   "outputs": [],
   "source": [
    "y = df['team1_win']\n",
    "X = df.drop(columns=['team1_win'])\n",
    "\n",
    "numeric = X.select_dtypes(include=['float', 'int64', 'int32', 'int']).columns.tolist()\n",
    "\n",
    "categorical = X.drop(columns = numeric).columns.tolist()"
   ],
   "metadata": {
    "collapsed": false
   }
  },
  {
   "cell_type": "code",
   "execution_count": 9,
   "outputs": [],
   "source": [
    "# Trainning the pipeline\n",
    "LR_pipeline = feature_selection(categorical,numeric,X,y)\n",
    "\n",
    "preprocessor = LR_pipeline.named_steps['preprocessor']"
   ],
   "metadata": {
    "collapsed": false
   }
  },
  {
   "cell_type": "code",
   "execution_count": 16,
   "outputs": [
    {
     "name": "stderr",
     "output_type": "stream",
     "text": [
      "C:\\Users\\19493\\Desktop\\March Madness\\Processors\\get_feature_names_processor.py:34: UserWarning: Transformer imputer (type SimpleImputer) does not provide get_feature_names. Will return input column names if available\n",
      "  warnings.warn(\"Transformer %s (type %s) does not \"\n",
      "C:\\Users\\19493\\Desktop\\March Madness\\Processors\\get_feature_names_processor.py:34: UserWarning: Transformer scaler (type StandardScaler) does not provide get_feature_names. Will return input column names if available\n",
      "  warnings.warn(\"Transformer %s (type %s) does not \"\n"
     ]
    }
   ],
   "source": [
    "# Get Feature Names\n",
    "df_feature = pd.DataFrame(LR_pipeline.named_steps['model'].coef_.flatten(), index=get_feature_names(preprocessor))\n",
    "\n",
    "selected_features = df_feature[df_feature[0] != 0]"
   ],
   "metadata": {
    "collapsed": false
   }
  },
  {
   "cell_type": "code",
   "execution_count": 18,
   "outputs": [
    {
     "name": "stdout",
     "output_type": "stream",
     "text": [
      "                                         0\n",
      "num__num_ot                      -0.074446\n",
      "num__team2_lat                   -0.009768\n",
      "num__team2_long                  -0.012912\n",
      "num__team2_pt_overall_ncaa       -0.048946\n",
      "num__team2_pt_coach_season_wins  -0.100660\n",
      "num__team1_pt_school_s16          0.081467\n",
      "num__team1_pt_overall_s16         0.060198\n",
      "num__team1_pt_team_season_wins    0.015116\n",
      "num__team1_pt_team_season_losses  0.065156\n",
      "num__team2_oppftpct              -0.015159\n",
      "num__team2_arate                 -0.065358\n",
      "num__team2_stlrate               -0.085646\n",
      "num__team1_arate                 -0.124966\n",
      "num__team1_oppstlrate            -0.066748\n",
      "num__team2_oe                    -0.114811\n",
      "num__team1_oe                     0.090440\n",
      "num__team1_adjde                 -0.157453\n",
      "num__sead_diff                   -0.392338\n",
      "num__exp_win1                     0.381381\n",
      "num__exp_win2                    -0.528139\n",
      "onehot__x0_N                      0.048515\n"
     ]
    }
   ],
   "source": [
    "print(selected_features)"
   ],
   "metadata": {
    "collapsed": false
   }
  },
  {
   "cell_type": "markdown",
   "source": [
    "### Baseline\n",
    "\n",
    "The following part we perform several machine learning methods to train the historical data.\n",
    "\n",
    "Note: The competition uses log-loss as metric. For tuning the hyperparameters, go to the baseline package."
   ],
   "metadata": {
    "collapsed": false
   }
  },
  {
   "cell_type": "code",
   "execution_count": 39,
   "outputs": [],
   "source": [
    "from sklearn.model_selection import train_test_split\n",
    "from sklearn import metrics\n",
    "from Baseline.lightGBM import lightGBM\n",
    "from Baseline.catboost import catboost"
   ],
   "metadata": {
    "collapsed": false
   }
  },
  {
   "cell_type": "code",
   "execution_count": 27,
   "outputs": [],
   "source": [
    "# Redine X for baseline training since we have performed feature selection\n",
    "features = [\"sead_diff\", \"team1_seed\",\"team1_adjoe\",\"team2_adjoe\",\"team1_adjde\",\"team2_adjde\",           \"team1_blockpct\",\"team2_blockpct\",\n",
    "           \"team1_pt_team_season_wins\",\"team2_pt_team_season_wins\",\n",
    "           \"team1_pt_overall_s16\",\"team2_pt_overall_s16\",\"team1_pt_coach_season_wins\",\"team2_pt_coach_season_wins\",\n",
    "           \"team1_pt_school_ncaa\",\"team2_pt_school_ncaa\"]\n",
    "\n",
    "X = df[features]\n",
    "# y does not change"
   ],
   "metadata": {
    "collapsed": false
   }
  },
  {
   "cell_type": "code",
   "execution_count": 35,
   "outputs": [],
   "source": [
    "X_train, X_test, y_train, y_test = train_test_split(X, y, test_size = 0.2, random_state=42)"
   ],
   "metadata": {
    "collapsed": false
   }
  },
  {
   "cell_type": "code",
   "execution_count": 36,
   "outputs": [],
   "source": [
    "LGBM = lightGBM(X_train, y_train)"
   ],
   "metadata": {
    "collapsed": false
   }
  },
  {
   "cell_type": "code",
   "execution_count": 41,
   "outputs": [
    {
     "ename": "TypeError",
     "evalue": "catboost() takes 0 positional arguments but 2 were given",
     "output_type": "error",
     "traceback": [
      "\u001B[1;31m---------------------------------------------------------------------------\u001B[0m",
      "\u001B[1;31mTypeError\u001B[0m                                 Traceback (most recent call last)",
      "\u001B[1;32m~\\AppData\\Local\\Temp/ipykernel_6384/330059473.py\u001B[0m in \u001B[0;36m<module>\u001B[1;34m\u001B[0m\n\u001B[1;32m----> 1\u001B[1;33m \u001B[0mCAT\u001B[0m \u001B[1;33m=\u001B[0m \u001B[0mcatboost\u001B[0m\u001B[1;33m(\u001B[0m\u001B[0mX_train\u001B[0m\u001B[1;33m,\u001B[0m \u001B[0my_train\u001B[0m\u001B[1;33m)\u001B[0m\u001B[1;33m\u001B[0m\u001B[1;33m\u001B[0m\u001B[0m\n\u001B[0m",
      "\u001B[1;31mTypeError\u001B[0m: catboost() takes 0 positional arguments but 2 were given"
     ]
    }
   ],
   "source": [
    "CAT = catboost(X_train, y_train)"
   ],
   "metadata": {
    "collapsed": false
   }
  },
  {
   "cell_type": "markdown",
   "source": [
    "### Performance\n",
    "\n",
    "In the following, we test the performance of each baseline based on log-loss and AUC.\n",
    "\n",
    "For each baseline, we use train_test_split method to test the performance.\n"
   ],
   "metadata": {
    "collapsed": false
   }
  },
  {
   "cell_type": "code",
   "execution_count": 37,
   "outputs": [],
   "source": [
    "y_pred = LGBM.predict_proba(X_test)[:,1]"
   ],
   "metadata": {
    "collapsed": false
   }
  },
  {
   "cell_type": "code",
   "execution_count": 38,
   "outputs": [
    {
     "name": "stdout",
     "output_type": "stream",
     "text": [
      "log_loss is:  0.5753981394987617\n",
      "roc_auc is:  0.7637502900905082\n"
     ]
    }
   ],
   "source": [
    "print(\"log_loss is: \", metrics.log_loss(y_test,y_pred))\n",
    "print(\"roc_auc is: \", metrics.roc_auc_score(y_test,y_pred))"
   ],
   "metadata": {
    "collapsed": false
   }
  },
  {
   "cell_type": "code",
   "execution_count": null,
   "outputs": [],
   "source": [],
   "metadata": {
    "collapsed": false
   }
  }
 ],
 "metadata": {
  "kernelspec": {
   "display_name": "Python 3",
   "language": "python",
   "name": "python3"
  },
  "language_info": {
   "codemirror_mode": {
    "name": "ipython",
    "version": 2
   },
   "file_extension": ".py",
   "mimetype": "text/x-python",
   "name": "python",
   "nbconvert_exporter": "python",
   "pygments_lexer": "ipython2",
   "version": "2.7.6"
  }
 },
 "nbformat": 4,
 "nbformat_minor": 0
}
