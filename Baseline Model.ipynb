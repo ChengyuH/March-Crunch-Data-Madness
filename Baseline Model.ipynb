{
 "cells": [
  {
   "cell_type": "markdown",
   "id": "89d60871",
   "metadata": {},
   "source": [
    "### Import Dataset\n",
    "\n",
    "test set are 2019 tournament data \n",
    "\n",
    "#### current best log-loss: 0.555960806126461 \n"
   ]
  },
  {
   "cell_type": "code",
   "execution_count": 27,
   "id": "756c17c2",
   "metadata": {},
   "outputs": [],
   "source": [
    "import numpy as np\n",
    "import pandas as pd\n",
    "import matplotlib.pyplot as plt\n",
    "\n",
    "import lightgbm as lgb\n",
    "from sklearn.model_selection import RandomizedSearchCV, GridSearchCV\n",
    "from sklearn import metrics"
   ]
  },
  {
   "cell_type": "code",
   "execution_count": 12,
   "id": "19faecab",
   "metadata": {},
   "outputs": [],
   "source": [
    "dftrain = pd.read_csv(\"X_train.csv\")\n",
    "dfeval = pd.read_csv(\"X_test.csv\")\n",
    "\n",
    "y_train = pd.read_csv(\"y_train.csv\")\n",
    "y_eval = pd.read_csv(\"y_test.csv\")"
   ]
  },
  {
   "cell_type": "code",
   "execution_count": 13,
   "id": "26753e25",
   "metadata": {},
   "outputs": [
    {
     "name": "stdout",
     "output_type": "stream",
     "text": [
      "      Unnamed: 0  team1_score WLoc  num_ot  team1_seed  strongseed  \\\n",
      "0              0           52    N       0           6           6   \n",
      "1              1           61    N       0          15           2   \n",
      "2              2           66    N       0          16          16   \n",
      "3              3           64    N       0           9           8   \n",
      "4              4           65    N       0           7           2   \n",
      "...          ...          ...  ...     ...         ...         ...   \n",
      "1241        1241           84    N       0           5           4   \n",
      "1242        1242           50    N       0           9           9   \n",
      "1243        1243           69    N       0           2           2   \n",
      "1244        1244           95    N       0           1           1   \n",
      "1245        1245           69    N       0           3           3   \n",
      "\n",
      "     team2_region team1_region  season         host  ...  team1_adjtempo  \\\n",
      "0               X            X    2018      detroit  ...         68.7000   \n",
      "1               X            X    2022   Greenville  ...         66.0235   \n",
      "2               W            W    2017       dayton  ...         66.0122   \n",
      "3               W            W    2012   pittsburgh  ...         64.9346   \n",
      "4               Y            Y    2014    milwaukee  ...         68.1663   \n",
      "...           ...          ...     ...          ...  ...             ...   \n",
      "1241            X            X    2018    san_diego  ...         65.6000   \n",
      "1242            Y            Y    2018    charlotte  ...         65.5000   \n",
      "1243            X            X    2018        omaha  ...         70.0000   \n",
      "1244            X            W    2018  san_antonio  ...         68.3000   \n",
      "1245            Y            Z    2018  san_antonio  ...         64.4000   \n",
      "\n",
      "      team1_oe  team1_adjoe  team1_de  team1_adjde  sead_diff score_diff  \\\n",
      "0     120.6000     116.0000  101.7000     106.4000         -5         -5   \n",
      "1     103.8070     104.6470   99.3304     102.5460         13        -17   \n",
      "2     101.9040     100.8620   99.4903     101.3720          0         -1   \n",
      "3     107.1150     109.2343   99.9955      99.2821          1         -6   \n",
      "4     106.3702     109.4989  100.5983      96.3269          5        -14   \n",
      "...        ...          ...       ...          ...        ...        ...   \n",
      "1241  113.8000     108.1000   93.5000      97.3000          1         31   \n",
      "1242  112.2000     108.3000   97.4000     101.6000         -7          7   \n",
      "1243  122.6000     118.7000   93.5000      97.3000         -9          4   \n",
      "1244  127.4000     122.8000   96.0000      99.9000          0         16   \n",
      "1245  115.9000     111.2000   92.7000      96.5000         -8         12   \n",
      "\n",
      "      exp_win1        dist2    diff_dist  \n",
      "0     0.729764   570.320236  1081.021504  \n",
      "1     0.558046   148.431171  3533.186254  \n",
      "2     0.485504   585.077635   622.060699  \n",
      "3     0.749996  1421.368090  -105.503945  \n",
      "4     0.813652   354.651930  1309.520565  \n",
      "...        ...          ...          ...  \n",
      "1241  0.770381  2954.565836   214.413585  \n",
      "1242  0.675772   578.438552   881.475060  \n",
      "1243  0.907728  1646.421258   -56.740049  \n",
      "1244  0.914781  1102.407387  1311.108325  \n",
      "1245  0.836246  1704.964586   242.765505  \n",
      "\n",
      "[1246 rows x 76 columns]\n"
     ]
    }
   ],
   "source": [
    "print(dftrain)"
   ]
  },
  {
   "cell_type": "code",
   "execution_count": 46,
   "id": "f5709373",
   "metadata": {},
   "outputs": [
    {
     "name": "stdout",
     "output_type": "stream",
     "text": [
      "<class 'pandas.core.frame.DataFrame'>\n",
      "RangeIndex: 1246 entries, 0 to 1245\n",
      "Data columns (total 18 columns):\n",
      " #   Column                      Non-Null Count  Dtype  \n",
      "---  ------                      --------------  -----  \n",
      " 0   sead_diff                   1246 non-null   int64  \n",
      " 1   team1_seed                  1246 non-null   int64  \n",
      " 2   team1_adjoe                 1246 non-null   float64\n",
      " 3   team2_adjoe                 1246 non-null   float64\n",
      " 4   team1_adjde                 1246 non-null   float64\n",
      " 5   team2_adjde                 1246 non-null   float64\n",
      " 6   team1_blockpct              1246 non-null   float64\n",
      " 7   team2_blockpct              1246 non-null   float64\n",
      " 8   team1_ap_preseason          522 non-null    float64\n",
      " 9   team2_ap_preseason          529 non-null    float64\n",
      " 10  team1_pt_team_season_wins   1246 non-null   float64\n",
      " 11  team2_pt_team_season_wins   1246 non-null   float64\n",
      " 12  team1_pt_overall_s16        1246 non-null   float64\n",
      " 13  team2_pt_overall_s16        1246 non-null   float64\n",
      " 14  team1_pt_coach_season_wins  1246 non-null   float64\n",
      " 15  team2_pt_coach_season_wins  1246 non-null   float64\n",
      " 16  team1_pt_school_ncaa        1246 non-null   float64\n",
      " 17  team2_pt_school_ncaa        1246 non-null   float64\n",
      "dtypes: float64(16), int64(2)\n",
      "memory usage: 175.3 KB\n"
     ]
    }
   ],
   "source": [
    "dftrain.info()"
   ]
  },
  {
   "cell_type": "code",
   "execution_count": 14,
   "id": "73939fb8",
   "metadata": {},
   "outputs": [],
   "source": [
    "features = [\"sead_diff\", \"team1_seed\",\"team1_adjoe\",\"team2_adjoe\",\"team1_adjde\",\"team2_adjde\",\"team1_blockpct\",\"team2_blockpct\",\"team1_ap_preseason\",\n",
    "           \"team2_ap_preseason\",\"team1_pt_team_season_wins\",\"team2_pt_team_season_wins\",\n",
    "           \"team1_pt_overall_s16\",\"team2_pt_overall_s16\",\"team1_pt_coach_season_wins\",\"team2_pt_coach_season_wins\",\n",
    "           \"team1_pt_school_ncaa\",\"team2_pt_school_ncaa\"]"
   ]
  },
  {
   "cell_type": "code",
   "execution_count": 15,
   "id": "ebc76858",
   "metadata": {},
   "outputs": [],
   "source": [
    "dftrain = dftrain[features]\n",
    "\n",
    "dfeval = dfeval[features]"
   ]
  },
  {
   "cell_type": "code",
   "execution_count": 16,
   "id": "4c3101c5",
   "metadata": {},
   "outputs": [],
   "source": [
    "y_train = y_train.drop(y_train.columns[0],axis=1)"
   ]
  },
  {
   "cell_type": "code",
   "execution_count": 17,
   "id": "58524e52",
   "metadata": {},
   "outputs": [],
   "source": [
    "y_eval = y_eval.drop(y_eval.columns[0],axis=1)"
   ]
  },
  {
   "cell_type": "markdown",
   "id": "5dc01339",
   "metadata": {},
   "source": [
    "### LightGBM \n",
    "\n",
    "#### log-loss: 0.555960806126461\n",
    "\n",
    "梯度提升决策树模型\n",
    "\n",
    "在梯度提升中，每个弱学习器都在上一个学习器的错误上进行训练，并专注于解决上一个学习器未能解决的问题。每个学习器的输出结果都会被结合到最终的决策中，从而提高预测的准确性。"
   ]
  },
  {
   "cell_type": "code",
   "execution_count": 55,
   "id": "39f7b8d5",
   "metadata": {},
   "outputs": [],
   "source": [
    "from scipy.stats import randint as sp_randint\n",
    "from scipy.stats import uniform as sp_uniform\n",
    "param_test ={'num_leaves': sp_randint(6, 50), \n",
    "             'min_child_samples': sp_randint(100, 500), \n",
    "             'min_child_weight': [1e-5, 1e-3, 1e-2, 1e-1, 1, 1e1, 1e2, 1e3, 1e4],\n",
    "             'subsample': sp_uniform(loc=0.2, scale=0.8), \n",
    "             'colsample_bytree': sp_uniform(loc=0.4, scale=0.6),\n",
    "             'reg_alpha': [0, 1e-1, 1, 2, 5, 7, 10, 50, 100],\n",
    "             'reg_lambda': [0, 1e-1, 1, 5, 10, 20, 50, 100]}\n",
    "\n",
    "n_HP_points_to_test = 500"
   ]
  },
  {
   "cell_type": "code",
   "execution_count": 56,
   "id": "27cd41dc",
   "metadata": {},
   "outputs": [],
   "source": [
    "clf = lgb.LGBMClassifier(max_depth=-1, random_state=1,metric='binary_logloss', n_jobs=4, n_estimators=5000)\n",
    "gs = RandomizedSearchCV(\n",
    "    estimator=clf, param_distributions=param_test, \n",
    "    n_iter=n_HP_points_to_test,\n",
    "    scoring='neg_log_loss',\n",
    "    cv=5,\n",
    "    refit=True,\n",
    "    random_state=1,\n",
    "    verbose=True)"
   ]
  },
  {
   "cell_type": "code",
   "execution_count": 57,
   "id": "55c445d1",
   "metadata": {},
   "outputs": [
    {
     "name": "stdout",
     "output_type": "stream",
     "text": [
      "Fitting 5 folds for each of 500 candidates, totalling 2500 fits\n"
     ]
    },
    {
     "data": {
      "text/plain": [
       "RandomizedSearchCV(cv=5,\n",
       "                   estimator=LGBMClassifier(metric='binary_logloss',\n",
       "                                            n_estimators=5000, n_jobs=4,\n",
       "                                            random_state=1),\n",
       "                   n_iter=500,\n",
       "                   param_distributions={'colsample_bytree': <scipy.stats._distn_infrastructure.rv_frozen object at 0x000001ABCF82FF40>,\n",
       "                                        'min_child_samples': <scipy.stats._distn_infrastructure.rv_frozen object at 0x000001ABD31F66D0>,\n",
       "                                        'min_child_weight': [1e-05, 0.001, 0.01,\n",
       "                                                             0.1, 1, 10.0,\n",
       "                                                             100.0, 1000.0,\n",
       "                                                             10000.0],\n",
       "                                        'num_leaves': <scipy.stats._distn_infrastructure.rv_frozen object at 0x000001ABD1CCC070>,\n",
       "                                        'reg_alpha': [0, 0.1, 1, 2, 5, 7, 10,\n",
       "                                                      50, 100],\n",
       "                                        'reg_lambda': [0, 0.1, 1, 5, 10, 20, 50,\n",
       "                                                       100],\n",
       "                                        'subsample': <scipy.stats._distn_infrastructure.rv_frozen object at 0x000001ABD2BAD370>},\n",
       "                   random_state=1, scoring='neg_log_loss', verbose=True)"
      ]
     },
     "execution_count": 57,
     "metadata": {},
     "output_type": "execute_result"
    }
   ],
   "source": [
    "gs.fit(dftrain, y_train.values.ravel())"
   ]
  },
  {
   "cell_type": "code",
   "execution_count": 58,
   "id": "196c9a19",
   "metadata": {},
   "outputs": [],
   "source": [
    "y_pred=gs.predict_proba(dfeval)[:,1]"
   ]
  },
  {
   "cell_type": "code",
   "execution_count": 59,
   "id": "b2e46d16",
   "metadata": {
    "scrolled": true
   },
   "outputs": [
    {
     "name": "stdout",
     "output_type": "stream",
     "text": [
      "log_loss is:  0.555960806126461\n",
      "roc_auc is:  0.8004464285714286\n"
     ]
    }
   ],
   "source": [
    "print(\"log_loss is: \", metrics.log_loss(y_eval,y_pred))\n",
    "print(\"roc_auc is: \", metrics.roc_auc_score(y_eval,y_pred))"
   ]
  },
  {
   "cell_type": "markdown",
   "id": "05471090",
   "metadata": {},
   "source": [
    "### Random Forest\n",
    "#### log-loss: "
   ]
  },
  {
   "cell_type": "code",
   "execution_count": 71,
   "id": "082042aa",
   "metadata": {},
   "outputs": [],
   "source": [
    "from sklearn.ensemble import RandomForestClassifier \n",
    "maximum_depth = 100\n",
    "minimum_depth = 1\n",
    "param_grid = {'max_depth': list(range(minimum_depth, maximum_depth+1))}\n",
    "\n",
    "# The reason we choose RandomizedSearchCV instead of GridSearchCV because it's faster\n",
    "# The Random Forest Model\n",
    "gs_rf = RandomizedSearchCV(\n",
    "    RandomForestClassifier(criterion='entropy', random_state=1), \n",
    "    param_grid,cv=3, n_jobs=4)"
   ]
  },
  {
   "cell_type": "code",
   "execution_count": null,
   "id": "06823bba",
   "metadata": {},
   "outputs": [],
   "source": []
  },
  {
   "cell_type": "markdown",
   "id": "2f1f30cc",
   "metadata": {},
   "source": [
    "### SVM Classifer "
   ]
  }
 ],
 "metadata": {
  "kernelspec": {
   "display_name": "Python 3 (ipykernel)",
   "language": "python",
   "name": "python3"
  },
  "language_info": {
   "codemirror_mode": {
    "name": "ipython",
    "version": 3
   },
   "file_extension": ".py",
   "mimetype": "text/x-python",
   "name": "python",
   "nbconvert_exporter": "python",
   "pygments_lexer": "ipython3",
   "version": "3.9.7"
  },
  "toc": {
   "base_numbering": 1,
   "nav_menu": {},
   "number_sections": true,
   "sideBar": true,
   "skip_h1_title": false,
   "title_cell": "Table of Contents",
   "title_sidebar": "Contents",
   "toc_cell": false,
   "toc_position": {
    "height": "calc(100% - 180px)",
    "left": "10px",
    "top": "150px",
    "width": "165px"
   },
   "toc_section_display": true,
   "toc_window_display": true
  }
 },
 "nbformat": 4,
 "nbformat_minor": 5
}
