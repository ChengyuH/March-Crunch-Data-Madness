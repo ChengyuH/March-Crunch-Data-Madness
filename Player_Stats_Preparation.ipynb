{
 "cells": [
  {
   "cell_type": "markdown",
   "id": "d7e9c52e",
   "metadata": {},
   "source": [
    "### Introduction \n",
    "\n",
    "We get top 100 (Points per game) players since '2002 - 2003' season to the current season. \n",
    "\n",
    "These players represent the most offensive players in each team, and they have potential to be considered as super stars. As basketball fans, we know for offense, players who have the most ppg are usually considered \"core\" players in each team.\n",
    "\n",
    "If you watch NBA, you are probably know the game changer players usually are among top 20 or even top 10 in the scoring leading board with high player efficiency, for example: Kevin Durant. \n",
    "\n",
    "They are other types of players with high PPG; however, they have low efficiency. For this type of players, they may make game changing plays, but most of times they drag their teams to losses. They seems have fantastic stats; however, they are \"fake\" stars. For example, Russual Westbrook. "
   ]
  },
  {
   "cell_type": "code",
   "execution_count": 1,
   "id": "c46907be",
   "metadata": {},
   "outputs": [],
   "source": [
    "import pandas as pd \n",
    "import numpy as np \n",
    "import matplotlib.pyplot as plt \n",
    "import seaborn as sns "
   ]
  },
  {
   "cell_type": "code",
   "execution_count": 2,
   "id": "7192cee2",
   "metadata": {},
   "outputs": [],
   "source": [
    "df = pd.read_csv('Top 100 Stats.csv')"
   ]
  },
  {
   "cell_type": "code",
   "execution_count": 3,
   "id": "d98f01b0",
   "metadata": {},
   "outputs": [
    {
     "data": {
      "text/plain": [
       "BU      84\n",
       "UW      84\n",
       "MSU     63\n",
       "MU      42\n",
       "OU      42\n",
       "        ..\n",
       "SMU     21\n",
       "CSUF    21\n",
       "VMI     21\n",
       "CHAR    21\n",
       "USMA    21\n",
       "Name: Team, Length: 83, dtype: int64"
      ]
     },
     "execution_count": 3,
     "metadata": {},
     "output_type": "execute_result"
    }
   ],
   "source": [
    "df['Team'].value_counts()"
   ]
  },
  {
   "cell_type": "markdown",
   "id": "13affb05",
   "metadata": {},
   "source": [
    "### Data Manipulation "
   ]
  },
  {
   "cell_type": "code",
   "execution_count": 4,
   "id": "cff02f23",
   "metadata": {},
   "outputs": [],
   "source": [
    "chunk_size = 100"
   ]
  },
  {
   "cell_type": "code",
   "execution_count": 5,
   "id": "8974111f",
   "metadata": {},
   "outputs": [
    {
     "name": "stdout",
     "output_type": "stream",
     "text": [
      "DataFrame 0 has 100 columns\n",
      "DataFrame 1 has 100 columns\n",
      "DataFrame 2 has 100 columns\n",
      "DataFrame 3 has 100 columns\n",
      "DataFrame 4 has 100 columns\n",
      "DataFrame 5 has 100 columns\n",
      "DataFrame 6 has 100 columns\n",
      "DataFrame 7 has 100 columns\n",
      "DataFrame 8 has 100 columns\n",
      "DataFrame 9 has 100 columns\n",
      "DataFrame 10 has 100 columns\n",
      "DataFrame 11 has 100 columns\n",
      "DataFrame 12 has 100 columns\n",
      "DataFrame 13 has 100 columns\n",
      "DataFrame 14 has 100 columns\n",
      "DataFrame 15 has 100 columns\n",
      "DataFrame 16 has 100 columns\n",
      "DataFrame 17 has 100 columns\n",
      "DataFrame 18 has 100 columns\n",
      "DataFrame 19 has 100 columns\n",
      "DataFrame 20 has 100 columns\n"
     ]
    }
   ],
   "source": [
    "# 创建一个列表，其中包含分成的DataFrame\n",
    "df_list = [df[i:i+chunk_size] for i in range(0, df.shape[0], chunk_size)]\n",
    "\n",
    "# 检查列表中的每个DataFrame的大小\n",
    "for i, chunk in enumerate(df_list):\n",
    "    print(\"DataFrame {} has {} columns\".format(i, chunk.shape[0]))"
   ]
  },
  {
   "cell_type": "code",
   "execution_count": 6,
   "id": "35ac0de3",
   "metadata": {},
   "outputs": [
    {
     "data": {
      "text/plain": [
       "array(['BU', 'LIB', 'UDM', 'UI', 'ORU', 'UNLV', 'UW', 'DEP', 'FGC', 'UNC',\n",
       "       'U of I', 'PENN', 'NSU', 'VU', 'MSU', 'UAB', 'UNO', 'WRST', 'ISU',\n",
       "       'OU', 'UTC', 'UTA', 'UTEP', 'WMY', 'UW', 'OU', 'NMSU', 'CHAR',\n",
       "       'VMI', 'UW', 'CSUF', 'SMU', 'OSU', 'SU', 'STJ', 'LIU', 'CSU',\n",
       "       'YALE', 'SU', 'UB', 'MU', 'UNR', 'CSUS', 'UVU', 'MAN', 'L-MD',\n",
       "       'U of T', 'FAMU', 'NAU', 'UNI', 'KU', 'CIT', 'SHSU', 'UM', 'WF',\n",
       "       'HOF', 'UW', 'WRST', 'GU', 'HP', 'U of A', 'IU', 'HCU', 'UNM',\n",
       "       'WSU', 'NU', 'MSU', 'SCU', 'TU', 'ASU', 'KSU', 'GT', 'UIC', 'UM',\n",
       "       'WVU', 'GMU', 'HAR', 'UTRGV', 'ASU', 'U of A', 'BU', 'ECU', 'BU',\n",
       "       'WC', 'MU', 'MSU', 'U of M', 'KSU', 'USU', 'BU', 'LMU', 'UK',\n",
       "       'NCST', 'PU', 'UVM', 'SEA', 'USF', 'DUKE', 'USMA', 'LIU'],\n",
       "      dtype=object)"
      ]
     },
     "execution_count": 6,
     "metadata": {},
     "output_type": "execute_result"
    }
   ],
   "source": [
    "# Check what stats are included \n",
    "df_list[0].Team.values"
   ]
  },
  {
   "cell_type": "code",
   "execution_count": 7,
   "id": "a73f5d86",
   "metadata": {},
   "outputs": [
    {
     "data": {
      "text/html": [
       "<div>\n",
       "<style scoped>\n",
       "    .dataframe tbody tr th:only-of-type {\n",
       "        vertical-align: middle;\n",
       "    }\n",
       "\n",
       "    .dataframe tbody tr th {\n",
       "        vertical-align: top;\n",
       "    }\n",
       "\n",
       "    .dataframe thead th {\n",
       "        text-align: right;\n",
       "    }\n",
       "</style>\n",
       "<table border=\"1\" class=\"dataframe\">\n",
       "  <thead>\n",
       "    <tr style=\"text-align: right;\">\n",
       "      <th></th>\n",
       "      <th>Number</th>\n",
       "      <th>Player</th>\n",
       "      <th>Team</th>\n",
       "      <th>GP</th>\n",
       "      <th>MPG</th>\n",
       "      <th>PPG</th>\n",
       "      <th>FGM</th>\n",
       "      <th>FGA</th>\n",
       "      <th>FG%</th>\n",
       "      <th>3PM</th>\n",
       "      <th>...</th>\n",
       "      <th>FTA</th>\n",
       "      <th>FT%</th>\n",
       "      <th>ORB</th>\n",
       "      <th>DRB</th>\n",
       "      <th>RPG</th>\n",
       "      <th>APG</th>\n",
       "      <th>SPG</th>\n",
       "      <th>BPG</th>\n",
       "      <th>TOV</th>\n",
       "      <th>PF</th>\n",
       "    </tr>\n",
       "  </thead>\n",
       "  <tbody>\n",
       "    <tr>\n",
       "      <th>0</th>\n",
       "      <td>1</td>\n",
       "      <td>Peter Kiss</td>\n",
       "      <td>BU</td>\n",
       "      <td>27</td>\n",
       "      <td>35.7</td>\n",
       "      <td>25.2</td>\n",
       "      <td>9.1</td>\n",
       "      <td>20.0</td>\n",
       "      <td>0.456</td>\n",
       "      <td>1.9</td>\n",
       "      <td>...</td>\n",
       "      <td>6.5</td>\n",
       "      <td>0.784</td>\n",
       "      <td>1.4</td>\n",
       "      <td>4.3</td>\n",
       "      <td>5.8</td>\n",
       "      <td>3.2</td>\n",
       "      <td>1.7</td>\n",
       "      <td>0.3</td>\n",
       "      <td>4.2</td>\n",
       "      <td>2.2</td>\n",
       "    </tr>\n",
       "    <tr>\n",
       "      <th>1</th>\n",
       "      <td>2</td>\n",
       "      <td>Darius McGhee</td>\n",
       "      <td>LIB</td>\n",
       "      <td>33</td>\n",
       "      <td>33.6</td>\n",
       "      <td>24.6</td>\n",
       "      <td>8.4</td>\n",
       "      <td>18.3</td>\n",
       "      <td>0.456</td>\n",
       "      <td>4.3</td>\n",
       "      <td>...</td>\n",
       "      <td>4.1</td>\n",
       "      <td>0.881</td>\n",
       "      <td>0.5</td>\n",
       "      <td>4.0</td>\n",
       "      <td>4.5</td>\n",
       "      <td>3.6</td>\n",
       "      <td>1.2</td>\n",
       "      <td>0.2</td>\n",
       "      <td>3.0</td>\n",
       "      <td>1.3</td>\n",
       "    </tr>\n",
       "    <tr>\n",
       "      <th>2</th>\n",
       "      <td>3</td>\n",
       "      <td>Antoine Davis</td>\n",
       "      <td>UDM</td>\n",
       "      <td>29</td>\n",
       "      <td>37.0</td>\n",
       "      <td>23.9</td>\n",
       "      <td>8.2</td>\n",
       "      <td>19.1</td>\n",
       "      <td>0.429</td>\n",
       "      <td>3.9</td>\n",
       "      <td>...</td>\n",
       "      <td>4.1</td>\n",
       "      <td>0.882</td>\n",
       "      <td>0.5</td>\n",
       "      <td>3.1</td>\n",
       "      <td>3.6</td>\n",
       "      <td>4.4</td>\n",
       "      <td>1.0</td>\n",
       "      <td>0.0</td>\n",
       "      <td>3.3</td>\n",
       "      <td>1.7</td>\n",
       "    </tr>\n",
       "    <tr>\n",
       "      <th>3</th>\n",
       "      <td>4</td>\n",
       "      <td>Keegan Murray</td>\n",
       "      <td>UI</td>\n",
       "      <td>35</td>\n",
       "      <td>31.9</td>\n",
       "      <td>23.5</td>\n",
       "      <td>8.8</td>\n",
       "      <td>15.8</td>\n",
       "      <td>0.554</td>\n",
       "      <td>1.9</td>\n",
       "      <td>...</td>\n",
       "      <td>5.4</td>\n",
       "      <td>0.747</td>\n",
       "      <td>2.9</td>\n",
       "      <td>5.8</td>\n",
       "      <td>8.7</td>\n",
       "      <td>1.5</td>\n",
       "      <td>1.3</td>\n",
       "      <td>1.9</td>\n",
       "      <td>1.1</td>\n",
       "      <td>1.9</td>\n",
       "    </tr>\n",
       "    <tr>\n",
       "      <th>4</th>\n",
       "      <td>5</td>\n",
       "      <td>Max Abmas</td>\n",
       "      <td>ORU</td>\n",
       "      <td>30</td>\n",
       "      <td>36.8</td>\n",
       "      <td>22.8</td>\n",
       "      <td>7.5</td>\n",
       "      <td>17.9</td>\n",
       "      <td>0.422</td>\n",
       "      <td>3.8</td>\n",
       "      <td>...</td>\n",
       "      <td>4.7</td>\n",
       "      <td>0.850</td>\n",
       "      <td>0.3</td>\n",
       "      <td>3.1</td>\n",
       "      <td>3.4</td>\n",
       "      <td>3.7</td>\n",
       "      <td>1.0</td>\n",
       "      <td>0.1</td>\n",
       "      <td>2.3</td>\n",
       "      <td>1.9</td>\n",
       "    </tr>\n",
       "    <tr>\n",
       "      <th>...</th>\n",
       "      <td>...</td>\n",
       "      <td>...</td>\n",
       "      <td>...</td>\n",
       "      <td>...</td>\n",
       "      <td>...</td>\n",
       "      <td>...</td>\n",
       "      <td>...</td>\n",
       "      <td>...</td>\n",
       "      <td>...</td>\n",
       "      <td>...</td>\n",
       "      <td>...</td>\n",
       "      <td>...</td>\n",
       "      <td>...</td>\n",
       "      <td>...</td>\n",
       "      <td>...</td>\n",
       "      <td>...</td>\n",
       "      <td>...</td>\n",
       "      <td>...</td>\n",
       "      <td>...</td>\n",
       "      <td>...</td>\n",
       "      <td>...</td>\n",
       "    </tr>\n",
       "    <tr>\n",
       "      <th>95</th>\n",
       "      <td>96</td>\n",
       "      <td>Darrion Trammell</td>\n",
       "      <td>SEA</td>\n",
       "      <td>31</td>\n",
       "      <td>33.4</td>\n",
       "      <td>17.3</td>\n",
       "      <td>5.2</td>\n",
       "      <td>13.0</td>\n",
       "      <td>0.400</td>\n",
       "      <td>1.8</td>\n",
       "      <td>...</td>\n",
       "      <td>6.3</td>\n",
       "      <td>0.821</td>\n",
       "      <td>0.5</td>\n",
       "      <td>3.3</td>\n",
       "      <td>3.8</td>\n",
       "      <td>5.0</td>\n",
       "      <td>2.5</td>\n",
       "      <td>0.1</td>\n",
       "      <td>2.9</td>\n",
       "      <td>2.2</td>\n",
       "    </tr>\n",
       "    <tr>\n",
       "      <th>96</th>\n",
       "      <td>97</td>\n",
       "      <td>Jamaree Bouyea</td>\n",
       "      <td>USF</td>\n",
       "      <td>34</td>\n",
       "      <td>36.2</td>\n",
       "      <td>17.3</td>\n",
       "      <td>6.4</td>\n",
       "      <td>13.7</td>\n",
       "      <td>0.470</td>\n",
       "      <td>2.1</td>\n",
       "      <td>...</td>\n",
       "      <td>3.0</td>\n",
       "      <td>0.755</td>\n",
       "      <td>0.5</td>\n",
       "      <td>4.5</td>\n",
       "      <td>5.0</td>\n",
       "      <td>4.0</td>\n",
       "      <td>1.8</td>\n",
       "      <td>0.9</td>\n",
       "      <td>2.3</td>\n",
       "      <td>1.5</td>\n",
       "    </tr>\n",
       "    <tr>\n",
       "      <th>97</th>\n",
       "      <td>98</td>\n",
       "      <td>Paolo Banchero</td>\n",
       "      <td>DUKE</td>\n",
       "      <td>39</td>\n",
       "      <td>33.0</td>\n",
       "      <td>17.2</td>\n",
       "      <td>6.3</td>\n",
       "      <td>13.2</td>\n",
       "      <td>0.478</td>\n",
       "      <td>1.1</td>\n",
       "      <td>...</td>\n",
       "      <td>4.8</td>\n",
       "      <td>0.729</td>\n",
       "      <td>1.7</td>\n",
       "      <td>6.1</td>\n",
       "      <td>7.8</td>\n",
       "      <td>3.2</td>\n",
       "      <td>1.1</td>\n",
       "      <td>0.9</td>\n",
       "      <td>2.4</td>\n",
       "      <td>1.9</td>\n",
       "    </tr>\n",
       "    <tr>\n",
       "      <th>98</th>\n",
       "      <td>99</td>\n",
       "      <td>Jalen Rucker</td>\n",
       "      <td>USMA</td>\n",
       "      <td>31</td>\n",
       "      <td>32.0</td>\n",
       "      <td>17.1</td>\n",
       "      <td>5.9</td>\n",
       "      <td>14.5</td>\n",
       "      <td>0.404</td>\n",
       "      <td>2.7</td>\n",
       "      <td>...</td>\n",
       "      <td>3.5</td>\n",
       "      <td>0.769</td>\n",
       "      <td>0.5</td>\n",
       "      <td>3.3</td>\n",
       "      <td>3.8</td>\n",
       "      <td>3.1</td>\n",
       "      <td>0.9</td>\n",
       "      <td>0.2</td>\n",
       "      <td>2.4</td>\n",
       "      <td>1.4</td>\n",
       "    </tr>\n",
       "    <tr>\n",
       "      <th>99</th>\n",
       "      <td>100</td>\n",
       "      <td>Eral Penn</td>\n",
       "      <td>LIU</td>\n",
       "      <td>29</td>\n",
       "      <td>32.1</td>\n",
       "      <td>17.1</td>\n",
       "      <td>5.7</td>\n",
       "      <td>13.2</td>\n",
       "      <td>0.428</td>\n",
       "      <td>1.4</td>\n",
       "      <td>...</td>\n",
       "      <td>6.2</td>\n",
       "      <td>0.709</td>\n",
       "      <td>2.6</td>\n",
       "      <td>4.8</td>\n",
       "      <td>7.4</td>\n",
       "      <td>1.9</td>\n",
       "      <td>1.3</td>\n",
       "      <td>1.1</td>\n",
       "      <td>1.6</td>\n",
       "      <td>2.8</td>\n",
       "    </tr>\n",
       "  </tbody>\n",
       "</table>\n",
       "<p>100 rows × 23 columns</p>\n",
       "</div>"
      ],
      "text/plain": [
       "    Number            Player  Team  GP   MPG   PPG  FGM   FGA    FG%  3PM  \\\n",
       "0        1        Peter Kiss    BU  27  35.7  25.2  9.1  20.0  0.456  1.9   \n",
       "1        2     Darius McGhee   LIB  33  33.6  24.6  8.4  18.3  0.456  4.3   \n",
       "2        3     Antoine Davis   UDM  29  37.0  23.9  8.2  19.1  0.429  3.9   \n",
       "3        4     Keegan Murray    UI  35  31.9  23.5  8.8  15.8  0.554  1.9   \n",
       "4        5         Max Abmas   ORU  30  36.8  22.8  7.5  17.9  0.422  3.8   \n",
       "..     ...               ...   ...  ..   ...   ...  ...   ...    ...  ...   \n",
       "95      96  Darrion Trammell   SEA  31  33.4  17.3  5.2  13.0  0.400  1.8   \n",
       "96      97    Jamaree Bouyea   USF  34  36.2  17.3  6.4  13.7  0.470  2.1   \n",
       "97      98    Paolo Banchero  DUKE  39  33.0  17.2  6.3  13.2  0.478  1.1   \n",
       "98      99      Jalen Rucker  USMA  31  32.0  17.1  5.9  14.5  0.404  2.7   \n",
       "99     100         Eral Penn   LIU  29  32.1  17.1  5.7  13.2  0.428  1.4   \n",
       "\n",
       "    ...  FTA    FT%  ORB  DRB  RPG  APG  SPG  BPG  TOV   PF  \n",
       "0   ...  6.5  0.784  1.4  4.3  5.8  3.2  1.7  0.3  4.2  2.2  \n",
       "1   ...  4.1  0.881  0.5  4.0  4.5  3.6  1.2  0.2  3.0  1.3  \n",
       "2   ...  4.1  0.882  0.5  3.1  3.6  4.4  1.0  0.0  3.3  1.7  \n",
       "3   ...  5.4  0.747  2.9  5.8  8.7  1.5  1.3  1.9  1.1  1.9  \n",
       "4   ...  4.7  0.850  0.3  3.1  3.4  3.7  1.0  0.1  2.3  1.9  \n",
       "..  ...  ...    ...  ...  ...  ...  ...  ...  ...  ...  ...  \n",
       "95  ...  6.3  0.821  0.5  3.3  3.8  5.0  2.5  0.1  2.9  2.2  \n",
       "96  ...  3.0  0.755  0.5  4.5  5.0  4.0  1.8  0.9  2.3  1.5  \n",
       "97  ...  4.8  0.729  1.7  6.1  7.8  3.2  1.1  0.9  2.4  1.9  \n",
       "98  ...  3.5  0.769  0.5  3.3  3.8  3.1  0.9  0.2  2.4  1.4  \n",
       "99  ...  6.2  0.709  2.6  4.8  7.4  1.9  1.3  1.1  1.6  2.8  \n",
       "\n",
       "[100 rows x 23 columns]"
      ]
     },
     "execution_count": 7,
     "metadata": {},
     "output_type": "execute_result"
    }
   ],
   "source": [
    "df_list[0]"
   ]
  },
  {
   "cell_type": "code",
   "execution_count": 8,
   "id": "feb04ea4",
   "metadata": {},
   "outputs": [],
   "source": [
    "team_df = pd.read_csv('NCAA_Tourney_2002_2022.csv')"
   ]
  },
  {
   "cell_type": "code",
   "execution_count": 9,
   "id": "53cea8bf",
   "metadata": {},
   "outputs": [],
   "source": [
    "team_names = team_df['team1_teamname'].tolist()"
   ]
  },
  {
   "cell_type": "code",
   "execution_count": 10,
   "id": "0616ec26",
   "metadata": {},
   "outputs": [],
   "source": [
    "team_names = list(set(team_names))"
   ]
  },
  {
   "cell_type": "code",
   "execution_count": 11,
   "id": "55481812",
   "metadata": {},
   "outputs": [
    {
     "name": "stdout",
     "output_type": "stream",
     "text": [
      "171\n"
     ]
    }
   ],
   "source": [
    "print(len(team_names))"
   ]
  },
  {
   "cell_type": "code",
   "execution_count": 12,
   "id": "850ac4c2",
   "metadata": {},
   "outputs": [],
   "source": [
    "team2_names = team_df['team2_teamname'].tolist()"
   ]
  },
  {
   "cell_type": "code",
   "execution_count": 13,
   "id": "780a7c34",
   "metadata": {},
   "outputs": [],
   "source": [
    "team2_names = list(set(team2_names))"
   ]
  },
  {
   "cell_type": "code",
   "execution_count": 14,
   "id": "c4dc12df",
   "metadata": {},
   "outputs": [],
   "source": [
    "for name in team2_names: \n",
    "    if name not in team_names: \n",
    "        team_names.append(name)"
   ]
  },
  {
   "cell_type": "code",
   "execution_count": 15,
   "id": "9cef5a05",
   "metadata": {},
   "outputs": [
    {
     "name": "stdout",
     "output_type": "stream",
     "text": [
      "262\n"
     ]
    }
   ],
   "source": [
    "print(len(team_names))"
   ]
  },
  {
   "cell_type": "code",
   "execution_count": 16,
   "id": "0d1547db",
   "metadata": {},
   "outputs": [],
   "source": [
    "# Now we get a list of names who have appeared in NCAA tournaments since 2002 - 2003 season."
   ]
  },
  {
   "cell_type": "code",
   "execution_count": 17,
   "id": "458a5a99",
   "metadata": {},
   "outputs": [],
   "source": [
    "# Get Names from Stats dataframe\n",
    "abbrev_names = []\n",
    "\n",
    "# Iterate over the data for each season\n",
    "for df in df_list:\n",
    "    names = df['Team'].tolist()\n",
    "    names = list(set(names))\n",
    "    \n",
    "    for name in names: \n",
    "        if name not in abbrev_names: \n",
    "            abbrev_names.append(name)"
   ]
  },
  {
   "cell_type": "code",
   "execution_count": 18,
   "id": "732b57ec",
   "metadata": {},
   "outputs": [
    {
     "name": "stdout",
     "output_type": "stream",
     "text": [
      "83\n"
     ]
    }
   ],
   "source": [
    "print(len(abbrev_names))"
   ]
  },
  {
   "cell_type": "code",
   "execution_count": 19,
   "id": "6c3d8f71",
   "metadata": {},
   "outputs": [
    {
     "name": "stdout",
     "output_type": "stream",
     "text": [
      "['UVU', 'PU', 'CSU', 'BU', 'NCST', 'HCU', 'UTRGV', 'WF', 'UM', 'UB', 'UTEP', 'ORU', 'ECU', 'DUKE', 'UNR', 'LIB', 'MSU', 'SCU', 'WVU', 'PENN', 'GMU', 'WRST', 'FAMU', 'CIT', 'USMA', 'UVM', 'NAU', 'HP', 'GU', 'UAB', 'LIU', 'KSU', 'STJ', 'HAR', 'UW', 'L-MD', 'OSU', 'LMU', 'SEA', 'ISU', 'CSUF', 'USF', 'UNC', 'UNM', 'WMY', 'U of M', 'SHSU', 'HOF', 'NMSU', 'SMU', 'U of I', 'ASU', 'CSUS', 'VMI', 'GT', 'SU', 'DEP', 'UIC', 'CHAR', 'USU', 'VU', 'NSU', 'KU', 'WC', 'UNLV', 'YALE', 'TU', 'UDM', 'MU', 'IU', 'UNI', 'FGC', 'UTA', 'U of T', 'MAN', 'UI', 'U of A', 'UTC', 'NU', 'OU', 'WSU', 'UNO', 'UK']\n"
     ]
    }
   ],
   "source": [
    "print(abbrev_names)"
   ]
  },
  {
   "cell_type": "code",
   "execution_count": 20,
   "id": "44412a5b",
   "metadata": {},
   "outputs": [
    {
     "name": "stdout",
     "output_type": "stream",
     "text": [
      "['N Dakota St', 'Florida St', 'Ohio St', 'Pittsburgh', 'DePaul', 'LSU', 'Florida', 'UC Irvine', 'MTSU', 'West Virginia', 'Washington St', 'Tennessee', 'Georgetown', 'Wisconsin', 'Texas Tech', 'NC A&T', 'Wyoming', \"St Joseph's PA\", 'TCU', 'Syracuse', 'Villanova', 'TX Southern', 'Harvard', 'Iowa', 'Richmond', 'Wofford', 'St Louis', 'La Salle', 'Florida A&M', 'Georgia Tech', 'North Texas', 'BYU', 'Kentucky', 'C Michigan', 'Vanderbilt', 'Creighton', 'Yale', 'G Washington', 'Holy Cross', 'Hawaii', 'Arkansas', 'Xavier', 'Kent', 'Wichita St', 'Norfolk St', 'Arizona St', 'Tulsa', 'Michigan', 'Oakland', 'Ark Pine Bluff', 'UC Davis', 'Mercer', 'Butler', 'Colorado', 'Virginia Tech', 'UAB', 'James Madison', 'South Carolina', 'California', \"Mt St Mary's\", 'Drake', 'Belmont', 'Wake Forest', 'Oklahoma St', 'Washington', 'W Kentucky', 'Providence', 'Utah', 'New Mexico St', 'Kansas', 'Pacific', 'Siena', 'Clemson', 'Vermont', 'Memphis', 'George Mason', 'St Bonaventure', 'Colorado St', 'Michigan St', 'Ark Little Rock', 'Albany NY', 'Texas', 'Maryland', 'Bucknell', 'Cleveland St', 'Cornell', 'Texas A&M', 'Notre Dame', 'Bradley', 'San Diego', 'Iowa St', 'Northwestern', 'Lehigh', 'Kansas St', 'Davidson', 'Hampton', 'F Dickinson', 'Buffalo', 'Rhode Island', 'Indiana', 'Old Dominion', 'UCLA', 'Seton Hall', 'Morehead St', 'VA Commonwealth', 'Cincinnati', 'San Diego St', 'Temple', 'Ohio', 'Baylor', 'Georgia', 'Arizona', 'UT San Antonio', 'Marquette', 'Alabama', 'Oral Roberts', \"St Mary's CA\", 'UMBC', 'Auburn', 'Northern Iowa', 'FL Gulf Coast', 'Purdue', 'Boston College', 'UNLV', 'Winthrop', 'North Carolina', 'Manhattan', 'Minnesota', 'Mississippi', 'Illinois', 'Montana', 'Abilene Chr', 'NC State', 'Niagara', 'Robert Morris', 'Nevada', \"St Peter's\", 'USC', 'Duke', 'UCF', 'Mississippi St', 'Monmouth NJ', 'UNC Wilmington', 'Liberty', 'Missouri', 'Oregon', 'Rutgers', 'Cal Poly SLO', 'SF Austin', 'Georgia St', 'Dayton', 'Gonzaga', 'Northwestern LA', 'Murray St', 'Stanford', 'Wright St', 'Connecticut', 'Oklahoma', 'New Mexico', 'Louisville', 'South Florida', 'Loyola-Chicago', 'Marshall', 'Virginia', 'Houston', 'Miami FL', 'WI Milwaukee', 'UNC Asheville', 'S Illinois', 'Radford', 'Oregon St', 'IUPUI', 'Jacksonville St', 'ULL', 'E Kentucky', 'Utah St', 'N Kentucky', 'CS Bakersfield', 'San Francisco', 'Akron', 'FL Atlantic', 'Fresno St', 'ETSU', 'Valparaiso', 'Longwood', 'Col Charleston', 'Grand Canyon', 'Alabama A&M', 'NC Central', 'Gardner Webb', 'UTEP', 'Lipscomb', 'Coppin St', 'CS Fullerton', 'McNeese St', 'Montana St', 'MS Valley St', 'Miami OH', 'Santa Barbara', 'Princeton', 'Prairie View', 'South Alabama', 'WI Green Bay', 'Morgan St', 'S Dakota St', 'S Carolina St', 'TAM C. Christi', 'Alabama St', 'Detroit', 'Charlotte', 'North Florida', 'Iona', 'W Michigan', 'Indiana St', 'Massachusetts', 'Nebraska', 'Delaware', 'North Dakota', 'Northeastern', 'Loyola MD', 'Pepperdine', 'Air Force', 'CS Northridge', 'Penn', 'Lafayette', 'Chattanooga', 'Lamar', 'SMU', 'Binghamton', 'Southern Miss', 'Southern Univ', 'UT Arlington', 'UNC Greensboro', 'E Washington', 'Portland St', 'Stony Brook', 'Boise St', 'American Univ', 'Penn St', 'Bryant', 'N Colorado', 'Long Island', 'Long Beach St', 'Alcorn St', 'Drexel', 'Austin Peay', 'Coastal Car', 'Appalachian St', 'Boston Univ', 'SE Louisiana', 'IL Chicago', 'Jackson St', \"St John's\", 'Central Conn', 'Weber St', 'Wagner', 'Troy', 'Hartford', 'Sam Houston St', 'Delaware St', 'Colgate', 'New Orleans']\n"
     ]
    }
   ],
   "source": [
    "print(team_names)"
   ]
  },
  {
   "cell_type": "code",
   "execution_count": 21,
   "id": "eeaefa5a",
   "metadata": {},
   "outputs": [],
   "source": [
    "abbreviations = {\n",
    "    \"LIB\": \"Liberty\",\n",
    "    \"WC\": \"West Coast Conference\",\n",
    "    \"UNC\": \"North Carolina\",\n",
    "    \"FAMU\": \"Florida A&M\",\n",
    "    \"ECU\": \"East Carolina\",\n",
    "    \"NAU\": \"Northern Arizona\",\n",
    "    \"OU\": \"Oklahoma\",\n",
    "    \"TU\": \"Tulsa\",\n",
    "    \"PU\": \"Purdue\",\n",
    "    \"NSU\": \"Norfolk St\",\n",
    "    \"IU\": \"Indiana\",\n",
    "    \"UNLV\": \"Nevada\",\n",
    "    \"HP\": \"Hampton\",\n",
    "    \"MAN\": \"Manhattan\",\n",
    "    \"UTC\": \"Chattanooga\",\n",
    "    \"YALE\": \"Yale\",\n",
    "    \"CSUF\": \"CS Fullerton\",\n",
    "    \"UTEP\": \"UT El Paso\",\n",
    "    \"CIT\": \"Citadel\",\n",
    "    \"WSU\": \"Washington St\",\n",
    "    \"DUKE\": \"Duke\",\n",
    "    \"UNO\": \"New Orleans\",\n",
    "    \"LIU\": \"Long Island\",\n",
    "    \"UK\": \"Kentucky\",\n",
    "    \"ISU\": \"Iowa St\",\n",
    "    \"SHSU\": \"Sam Houston\",\n",
    "    \"SEA\": \"Seattle\",\n",
    "    \"NU\": \"Northwestern\",\n",
    "    \"MSU\": \"Michigan St\",\n",
    "    \"NCST\": \"N Carolina St\",\n",
    "    \"CHAR\": \"Charlotte\",\n",
    "    \"OSU\": \"Ohio St\",\n",
    "    \"CSU\": \"Colorado St\",\n",
    "    \"KSU\": \"Kansas St\",\n",
    "    \"USU\": \"Utah St\",\n",
    "    \"HOF\": \"Hofstra\",\n",
    "    \"UNM\": \"University of New Mexico\",\n",
    "    \"NMSU\": \"New Mexico\",\n",
    "    \"HCU\": \"Houston Christian\",\n",
    "    \"UNR\": \"Reno\",\n",
    "    \"HAR\": \"Harvard\",\n",
    "    \"UM\": \"Miami FL\",\n",
    "    \"MU\": \"Marquette\",\n",
    "    \"U of M\": \"Michigan\",\n",
    "    \"SCU\": \"Santa Clara\",\n",
    "    \"GMU\": \"George Mason\",\n",
    "    \"BU\": \"Boston Univ\",\n",
    "    \"SU\": \"Syracuse\",\n",
    "    \"GU\": \"Georgetown\",\n",
    "    \"WF\": \"Wake Forest\",\n",
    "    \"UI\": \"Iowa\",\n",
    "    \"U of A\": \"Arizona\",\n",
    "    \"UVM\": \"Vermont\",\n",
    "    \"GT\": \"Georgia Tech\",\n",
    "    \"CSUS\": \"Sacramento St\",\n",
    "    \"KU\": \"Kansas\",\n",
    "    \"UTRGV\": \"UT Rio Grande Valley\",\n",
    "    \"UDM\": \"Detroit Mercy\",\n",
    "    \"STJ\": \"St John's\",\n",
    "    \"VMI\": \"Virginia Military Institute\",\n",
    "    \"VU\": \"Villanova\",\n",
    "    \"UTA\": \"UT Arlington\",\n",
    "    \"UAB\": \"Alabama\",\n",
    "    \"FGC\": \"Florida Gulf Coast University\",\n",
    "    \"ASU\": \"Arizona St\",\n",
    "    \"L-MD\": \"Loyola MD\",\n",
    "    \"WMY\": \"William & Mary\",\n",
    "    \"UIC\": \"IL Chicago\",\n",
    "    \"SMU\": \"SMU\",\n",
    "    \"ORU\": \"Oral Roberts\",\n",
    "    \"USF\": \"South Florida\",\n",
    "    \"WRST\":\"West Virginia\",\n",
    "    \"U of I\":\"Illinois\",\n",
    "    \"UB\": \"Buffalo\",\n",
    "    \"UNI\":\"Northern Iowa\",\n",
    "    \"LMU\":\"Loyola Marymount\",\n",
    "    \"USMA\":\"Army\",\n",
    "    \"UW\":\"Washington\",\n",
    "    \"UVU\":\"Utah Valley\",\n",
    "    \"U of T\":\"Texas\",\n",
    "    \"WVU\":\"West Virginia\",\n",
    "    \"PENN\":\"Penn\",\n",
    "    \"DEP\":\"DePaul\"}"
   ]
  },
  {
   "cell_type": "code",
   "execution_count": 25,
   "id": "84f0345b",
   "metadata": {},
   "outputs": [],
   "source": [
    "year = 2022 \n",
    "\n",
    "for df in df_list: \n",
    "    df['Team'].replace(abbreviations, inplace = True) \n",
    "    df['Year'] = year  \n",
    "    df.rename(columns={'Number':'Ranking'})\n",
    "    df.to_csv(\"player_data_{}.cvs\".format(year),index=False)\n",
    "    \n",
    "    year = year - 1\n",
    "    \n",
    "    #df.drop(columns = {'Number'}, inplace = True)"
   ]
  },
  {
   "cell_type": "code",
   "execution_count": null,
   "id": "c359df73",
   "metadata": {},
   "outputs": [],
   "source": []
  }
 ],
 "metadata": {
  "kernelspec": {
   "display_name": "Python 3 (ipykernel)",
   "language": "python",
   "name": "python3"
  },
  "language_info": {
   "codemirror_mode": {
    "name": "ipython",
    "version": 3
   },
   "file_extension": ".py",
   "mimetype": "text/x-python",
   "name": "python",
   "nbconvert_exporter": "python",
   "pygments_lexer": "ipython3",
   "version": "3.9.7"
  },
  "toc": {
   "base_numbering": 1,
   "nav_menu": {},
   "number_sections": true,
   "sideBar": true,
   "skip_h1_title": false,
   "title_cell": "Table of Contents",
   "title_sidebar": "Contents",
   "toc_cell": false,
   "toc_position": {},
   "toc_section_display": true,
   "toc_window_display": false
  }
 },
 "nbformat": 4,
 "nbformat_minor": 5
}
